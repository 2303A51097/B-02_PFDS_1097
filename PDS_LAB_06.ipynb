{
  "nbformat": 4,
  "nbformat_minor": 0,
  "metadata": {
    "colab": {
      "provenance": [],
      "include_colab_link": true
    },
    "kernelspec": {
      "name": "python3",
      "display_name": "Python 3"
    },
    "language_info": {
      "name": "python"
    }
  },
  "cells": [
    {
      "cell_type": "markdown",
      "metadata": {
        "id": "view-in-github",
        "colab_type": "text"
      },
      "source": [
        "<a href=\"https://colab.research.google.com/github/2303A51097/B-02_PFDS_1097/blob/main/PDS_LAB_06.ipynb\" target=\"_parent\"><img src=\"https://colab.research.google.com/assets/colab-badge.svg\" alt=\"Open In Colab\"/></a>"
      ]
    },
    {
      "cell_type": "markdown",
      "source": [
        "#Lab-06"
      ],
      "metadata": {
        "id": "dC_5bKVOHfwb"
      }
    },
    {
      "cell_type": "markdown",
      "source": [
        "question 1\n"
      ],
      "metadata": {
        "id": "H2YgDKyXIp5a"
      }
    },
    {
      "cell_type": "code",
      "execution_count": 3,
      "metadata": {
        "colab": {
          "base_uri": "https://localhost:8080/"
        },
        "id": "2eZ2uhQ3HdoN",
        "outputId": "b473654e-5a4c-4967-c75d-9d100862057e"
      },
      "outputs": [
        {
          "output_type": "stream",
          "name": "stdout",
          "text": [
            "Original Sales Dataset:\n",
            "   TransactionID Customer  Amount        Date\n",
            "0            101    Alice     250  2025-01-01\n",
            "1            102      Bob     300  2025-01-02\n",
            "2            103  Charlie     150  2025-01-03\n",
            "3            104    David     400  2025-01-04\n",
            "4            105      Eva     500  2025-01-05\n",
            "5            103  Charlie     150  2025-01-03\n",
            "6            104    David     400  2025-01-04\n",
            "\n",
            "Duplicate Rows:\n",
            "   TransactionID Customer  Amount        Date\n",
            "5            103  Charlie     150  2025-01-03\n",
            "6            104    David     400  2025-01-04\n",
            "\n",
            "Before Removing Duplicates: 7\n",
            "After Removing Duplicates: 5\n",
            "\n",
            "Cleaned Sales Dataset:\n",
            "   TransactionID Customer  Amount        Date\n",
            "0            101    Alice     250  2025-01-01\n",
            "1            102      Bob     300  2025-01-02\n",
            "2            103  Charlie     150  2025-01-03\n",
            "3            104    David     400  2025-01-04\n",
            "4            105      Eva     500  2025-01-05\n"
          ]
        }
      ],
      "source": [
        "import pandas as pd\n",
        "\n",
        "data = {\n",
        "    \"TransactionID\": [101, 102, 103, 104, 105, 103, 104],\n",
        "    \"Customer\": [\"Alice\", \"Bob\", \"Charlie\", \"David\", \"Eva\", \"Charlie\", \"David\"],\n",
        "    \"Amount\": [250, 300, 150, 400, 500, 150, 400],\n",
        "    \"Date\": [\"2025-01-01\", \"2025-01-02\", \"2025-01-03\", \"2025-01-04\", \"2025-01-05\",\n",
        "             \"2025-01-03\", \"2025-01-04\"]\n",
        "}\n",
        "\n",
        "df_sales = pd.DataFrame(data)\n",
        "\n",
        "print(\"Original Sales Dataset:\")\n",
        "print(df_sales)\n",
        "\n",
        "print(\"\\nDuplicate Rows:\")\n",
        "print(df_sales[df_sales.duplicated()])\n",
        "\n",
        "print(\"\\nBefore Removing Duplicates:\", len(df_sales))\n",
        "\n",
        "df_sales_cleaned = df_sales.drop_duplicates()\n",
        "\n",
        "print(\"After Removing Duplicates:\", len(df_sales_cleaned))\n",
        "\n",
        "print(\"\\nCleaned Sales Dataset:\")\n",
        "print(df_sales_cleaned)\n"
      ]
    },
    {
      "cell_type": "markdown",
      "source": [
        "2nd question\n"
      ],
      "metadata": {
        "id": "KNb9ZxYkIlto"
      }
    },
    {
      "cell_type": "code",
      "source": [
        "import pandas as pd\n",
        "\n",
        "data = {\n",
        "    \"EmployeeID\": [1, 2, 3],\n",
        "    \"Name\": [\"John\", \"Alice\", \"Bob\"],\n",
        "    \"Salary\": [\"50000\", \"60000\", \"55000\"],\n",
        "    \"Joining_Date\": [\"2025-01-15\", \"2024-12-20\", \"2025-02-10\"]\n",
        "}\n",
        "\n",
        "df_employee = pd.DataFrame(data)\n",
        "\n",
        "print(\"Original Employee Dataset (with wrong data types):\")\n",
        "print(df_employee.dtypes)\n",
        "\n",
        "df_employee[\"Salary\"] = pd.to_numeric(df_employee[\"Salary\"])\n",
        "\n",
        "df_employee[\"Joining_Date\"] = pd.to_datetime(df_employee[\"Joining_Date\"])\n",
        "\n",
        "print(\"\\nCorrected Employee Dataset (with correct data types):\")\n",
        "print(df_employee.dtypes)\n",
        "\n",
        "print(\"\\nFinal Employee Dataset:\")\n",
        "print(df_employee)\n"
      ],
      "metadata": {
        "colab": {
          "base_uri": "https://localhost:8080/"
        },
        "id": "y6xcMAyzH4jJ",
        "outputId": "d97db29b-be88-422b-8f0a-99c4ca019fbe"
      },
      "execution_count": 4,
      "outputs": [
        {
          "output_type": "stream",
          "name": "stdout",
          "text": [
            "Original Employee Dataset (with wrong data types):\n",
            "EmployeeID       int64\n",
            "Name            object\n",
            "Salary          object\n",
            "Joining_Date    object\n",
            "dtype: object\n",
            "\n",
            "Corrected Employee Dataset (with correct data types):\n",
            "EmployeeID               int64\n",
            "Name                    object\n",
            "Salary                   int64\n",
            "Joining_Date    datetime64[ns]\n",
            "dtype: object\n",
            "\n",
            "Final Employee Dataset:\n",
            "   EmployeeID   Name  Salary Joining_Date\n",
            "0           1   John   50000   2025-01-15\n",
            "1           2  Alice   60000   2024-12-20\n",
            "2           3    Bob   55000   2025-02-10\n"
          ]
        }
      ]
    }
  ]
}