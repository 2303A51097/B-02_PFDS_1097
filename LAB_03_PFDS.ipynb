{
  "nbformat": 4,
  "nbformat_minor": 0,
  "metadata": {
    "colab": {
      "provenance": [],
      "authorship_tag": "ABX9TyOzTpjrgbtjk9Cx6iycXZ6b",
      "include_colab_link": true
    },
    "kernelspec": {
      "name": "python3",
      "display_name": "Python 3"
    },
    "language_info": {
      "name": "python"
    }
  },
  "cells": [
    {
      "cell_type": "markdown",
      "metadata": {
        "id": "view-in-github",
        "colab_type": "text"
      },
      "source": [
        "<a href=\"https://colab.research.google.com/github/2303A51097/B-02_PFDS_1097/blob/main/LAB_03_PFDS.ipynb\" target=\"_parent\"><img src=\"https://colab.research.google.com/assets/colab-badge.svg\" alt=\"Open In Colab\"/></a>"
      ]
    },
    {
      "cell_type": "code",
      "execution_count": 12,
      "metadata": {
        "colab": {
          "base_uri": "https://localhost:8080/"
        },
        "id": "MNQtPthI11KT",
        "outputId": "1ebc0ca6-c455-4a60-c8c5-bb2b7ab5bad3"
      },
      "outputs": [
        {
          "output_type": "stream",
          "name": "stdout",
          "text": [
            "Matrix 1:\n",
            " [[1 2 3]\n",
            " [4 5 6]\n",
            " [7 8 9]]\n",
            "Matrix 2:\n",
            " [[9 8 7]\n",
            " [6 5 4]\n",
            " [3 2 1]]\n",
            "Addition Result:\n",
            " [[10 10 10]\n",
            " [10 10 10]\n",
            " [10 10 10]]\n",
            "Subtraction Result:\n",
            " [[-8 -6 -4]\n",
            " [-2  0  2]\n",
            " [ 4  6  8]]\n"
          ]
        }
      ],
      "source": [
        "#lab-03 question 1\n",
        "import numpy as np\n",
        "a1 = np.array([[1, 2, 3],\n",
        "               [4, 5, 6],\n",
        "               [7, 8, 9]])\n",
        "a2 = np.array([[9, 8, 7],\n",
        "               [6, 5, 4],\n",
        "               [3, 2, 1]])\n",
        "add_res = np.add(a1,a2)\n",
        "sub_res = np.subtract(a1,a2)\n",
        "print(\"Matrix 1:\\n\",a1)\n",
        "print(\"Matrix 2:\\n\",a2)\n",
        "print(\"Addition Result:\\n\",add_res)\n",
        "print(\"Subtraction Result:\\n\",sub_res)"
      ]
    },
    {
      "cell_type": "code",
      "source": [
        "#lab-03 question 2\n",
        "import numpy as np\n",
        "m= np.array([[1, 2],\n",
        "              [3, 4],\n",
        "              [5, 6]])\n",
        "n= np.array([[7, 8, 9],\n",
        "              [10, 11, 12]])\n",
        "dot_res = np.dot(m,n)\n",
        "print(\"Matrix m:\\n\",m)\n",
        "print(\"Matrix n:\\n\",n)\n",
        "print(\"Dot Product Result:\\n\",dot_res)"
      ],
      "metadata": {
        "colab": {
          "base_uri": "https://localhost:8080/"
        },
        "id": "DSnc3i463-td",
        "outputId": "2e16af0c-f219-4f3f-f1c9-dddf11476ab7"
      },
      "execution_count": 13,
      "outputs": [
        {
          "output_type": "stream",
          "name": "stdout",
          "text": [
            "Matrix m:\n",
            " [[1 2]\n",
            " [3 4]\n",
            " [5 6]]\n",
            "Matrix n:\n",
            " [[ 7  8  9]\n",
            " [10 11 12]]\n",
            "Dot Product Result:\n",
            " [[ 27  30  33]\n",
            " [ 61  68  75]\n",
            " [ 95 106 117]]\n"
          ]
        }
      ]
    },
    {
      "cell_type": "code",
      "source": [
        "#files\n",
        "filename = \"student_data.txt\"\n",
        "name=input(\"Enter name: \")\n",
        "marks=input(\"Enter marks: \")\n",
        "with open(filename, \"a\") as fp:\n",
        "    fp.write(f\"{name},{marks}\\n\")\n",
        "print(\"\\nAll Entries Of Students:\")\n",
        "with open(file_name, \"r\") as fp:\n",
        "    for line in fp:\n",
        "        n,m = line.strip().split(\",\")\n",
        "        print(f\"Name: {n}, Marks: {m}\")"
      ],
      "metadata": {
        "id": "_FyR5Jx35K_C"
      },
      "execution_count": null,
      "outputs": []
    }
  ]
}