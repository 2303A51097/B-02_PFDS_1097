{
  "nbformat": 4,
  "nbformat_minor": 0,
  "metadata": {
    "colab": {
      "provenance": []
    },
    "kernelspec": {
      "name": "python3",
      "display_name": "Python 3"
    },
    "language_info": {
      "name": "python"
    }
  },
  "cells": [
    {
      "cell_type": "code",
      "execution_count": null,
      "metadata": {
        "colab": {
          "base_uri": "https://localhost:8080/"
        },
        "id": "HC6s7a_n_yVh",
        "outputId": "f62045fe-9d24-4a45-f39f-9eae58af8026"
      },
      "outputs": [
        {
          "output_type": "stream",
          "name": "stdout",
          "text": [
            "Enter a number (≤ 10): 5\n",
            "\n",
            "--- Call Stack Trace ---\n",
            "fact(5) called\n",
            "  fact(4) called\n",
            "    fact(3) called\n",
            "      fact(2) called\n",
            "        fact(1) called\n",
            "        Returning 1\n",
            "      Returning 2\n",
            "    Returning 6\n",
            "  Returning 24\n",
            "Returning 120\n",
            "\n",
            "Result: 120\n"
          ]
        }
      ],
      "source": [
        "def fact(n, depth=0):\n",
        "    space = \"  \" * depth\n",
        "    print(f\"{space}fact({n}) called\")\n",
        "    if n == 0 or n == 1:\n",
        "        print(f\"{space}Returning 1\")\n",
        "        return 1\n",
        "    else:\n",
        "        res = n * fact(n - 1, depth + 1)\n",
        "        print(f\"{space}Returning {res}\")\n",
        "        return res\n",
        "\n",
        "num = int(input(\"Enter a number (≤ 10): \"))\n",
        "if 0 <= num <= 10:\n",
        "    print(\"\\n--- Call Stack Trace ---\")\n",
        "    result = fact(num)\n",
        "    print(f\"\\nResult: {result}\")\n",
        "else:\n",
        "    print(\"Invalid input. Please enter a number between 0 and 10.\")"
      ]
    },
    {
      "cell_type": "code",
      "metadata": {
        "id": "3f2e8c44"
      },
      "source": [],
      "execution_count": null,
      "outputs": []
    }
  ]
}